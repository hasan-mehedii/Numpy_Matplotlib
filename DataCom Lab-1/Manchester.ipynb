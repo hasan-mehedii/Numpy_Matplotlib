{
 "cells": [
  {
   "cell_type": "markdown",
   "id": "6cc87cf3",
   "metadata": {},
   "source": [
    "Manchester Encoding and Decoding"
   ]
  },
  {
   "cell_type": "code",
   "execution_count": 8,
   "id": "ba097159",
   "metadata": {},
   "outputs": [],
   "source": [
    "import numpy as np\n",
    "import matplotlib.pyplot as plt"
   ]
  },
  {
   "cell_type": "markdown",
   "id": "109e1c57",
   "metadata": {},
   "source": [
    "Manchester encoding function"
   ]
  },
  {
   "cell_type": "code",
   "execution_count": 9,
   "id": "5e185f05",
   "metadata": {},
   "outputs": [],
   "source": [
    "def Manchester_Encode(binary_sequence):\n",
    "    encoded_signal = []\n",
    "    for bit in binary_sequence:\n",
    "        if bit == '0':\n",
    "            encoded_signal.extend([0, 1])  # Low to high for '0'\n",
    "        elif bit == '1':\n",
    "            encoded_signal.extend([1, 0])  # High to low for '1'\n",
    "    return encoded_signal"
   ]
  },
  {
   "cell_type": "markdown",
   "id": "01e0121b",
   "metadata": {},
   "source": [
    "Manchester decoding function"
   ]
  },
  {
   "cell_type": "code",
   "execution_count": 10,
   "id": "106a7fa0",
   "metadata": {},
   "outputs": [],
   "source": [
    "def Manchester_Decode(encoded_signal):\n",
    "    decoded_sequence = []\n",
    "    for i in range(0, len(encoded_signal), 2):\n",
    "        if encoded_signal[i] == 0 and encoded_signal[i+1] == 1:\n",
    "            decoded_sequence.append('0')  # Low to high\n",
    "        elif encoded_signal[i] == 1 and encoded_signal[i+1] == 0:\n",
    "            decoded_sequence.append('1')  # High to low\n",
    "    return ''.join(decoded_sequence)\n"
   ]
  },
  {
   "cell_type": "markdown",
   "id": "e0947d10",
   "metadata": {},
   "source": [
    "Plotting Function"
   ]
  },
  {
   "cell_type": "code",
   "execution_count": 11,
   "id": "e2203932",
   "metadata": {},
   "outputs": [],
   "source": [
    "def plot_signal(encoded_signal):\n",
    "    time = np.arange(0, len(encoded_signal), 0.01)\n",
    "    voltage = np.repeat(encoded_signal, 100)\n",
    "\n",
    "    plt.figure(figsize=(10, 4))\n",
    "    plt.plot(time[:len(voltage)], voltage, label='Manchester Encoded Signal')\n",
    "    plt.title('Manchester Encoding')\n",
    "    plt.ylim(-0.5, 1.5)\n",
    "    plt.yticks([0, 1], ['0', '1'])\n",
    "    plt.grid(True)\n",
    "    plt.legend()\n",
    "    plt.show()"
   ]
  },
  {
   "cell_type": "markdown",
   "id": "54d6cd3d",
   "metadata": {},
   "source": [
    "Input:"
   ]
  },
  {
   "cell_type": "code",
   "execution_count": 12,
   "id": "eacfc533",
   "metadata": {},
   "outputs": [],
   "source": [
    "binary_sequence = '1011001'"
   ]
  },
  {
   "cell_type": "markdown",
   "id": "5ebc745b",
   "metadata": {},
   "source": [
    "Encoding and Plot"
   ]
  },
  {
   "cell_type": "code",
   "execution_count": 13,
   "id": "62748981",
   "metadata": {},
   "outputs": [
    {
     "name": "stdout",
     "output_type": "stream",
     "text": [
      "Encoded Signal: [1, 0, 0, 1, 1, 0, 1, 0, 0, 1, 0, 1, 1, 0]\n"
     ]
    },
    {
     "data": {
      "image/png": "[encoded data removed]",
      "text/plain": [
       "<Figure size 1000x400 with 1 Axes>"
      ]
     },
     "metadata": {},
     "output_type": "display_data"
    }
   ],
   "source": [
    "encoded_signal = Manchester_Encode(binary_sequence)\n",
    "print(\"Encoded Signal:\", encoded_signal)\n",
    "\n",
    "plot_signal(encoded_signal)"
   ]
  },
  {
   "cell_type": "markdown",
   "id": "ec2b1791",
   "metadata": {},
   "source": [
    "Decode"
   ]
  },
  {
   "cell_type": "code",
   "execution_count": 14,
   "id": "818623dd",
   "metadata": {},
   "outputs": [
    {
     "name": "stdout",
     "output_type": "stream",
     "text": [
      "Decoded Sequence: 1011001\n"
     ]
    }
   ],
   "source": [
    "decoded_sequence = Manchester_Decode(encoded_signal)\n",
    "print(\"Decoded Sequence:\", decoded_sequence)"
   ]
  }
 ],
 "metadata": {
  "kernelspec": {
   "display_name": "Python 3",
   "language": "python",
   "name": "python3"
  },
  "language_info": {
   "codemirror_mode": {
    "name": "ipython",
    "version": 3
   },
   "file_extension": ".py",
   "mimetype": "text/x-python",
   "name": "python",
   "nbconvert_exporter": "python",
   "pygments_lexer": "ipython3",
   "version": "3.11.9"
  }
 },
 "nbformat": 4,
 "nbformat_minor": 5
}
