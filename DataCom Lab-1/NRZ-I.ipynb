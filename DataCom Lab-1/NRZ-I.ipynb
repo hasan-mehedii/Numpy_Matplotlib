{
 "cells": [
  {
   "cell_type": "markdown",
   "id": "04b6b1bc",
   "metadata": {},
   "source": [
    "NRZ-I (Non-Return-to-Zero Inverted)"
   ]
  },
  {
   "cell_type": "code",
   "execution_count": 1,
   "id": "d3b8c667",
   "metadata": {},
   "outputs": [],
   "source": [
    "import numpy as np\n",
    "import matplotlib.pyplot as plt"
   ]
  },
  {
   "cell_type": "markdown",
   "id": "3b618669",
   "metadata": {},
   "source": [
    "NRZ-I Encoding Function"
   ]
  },
  {
   "cell_type": "code",
   "execution_count": null,
   "id": "88df6728",
   "metadata": {},
   "outputs": [],
   "source": [
    "def NRZ_I_Encode(binary_sequence):\n",
    "    encoded_signal = []\n",
    "    current_level = 0\n",
    "\n",
    "    for bit in binary_sequence:\n",
    "        if bit == '1':\n",
    "            current_level = 1 - current_level\n",
    "        encoded_signal.append(current_level)\n",
    "\n",
    "    return encoded_signal\n"
   ]
  }
 ],
 "metadata": {
  "kernelspec": {
   "display_name": "Python 3",
   "language": "python",
   "name": "python3"
  },
  "language_info": {
   "codemirror_mode": {
    "name": "ipython",
    "version": 3
   },
   "file_extension": ".py",
   "mimetype": "text/x-python",
   "name": "python",
   "nbconvert_exporter": "python",
   "pygments_lexer": "ipython3",
   "version": "3.11.9"
  }
 },
 "nbformat": 4,
 "nbformat_minor": 5
}
