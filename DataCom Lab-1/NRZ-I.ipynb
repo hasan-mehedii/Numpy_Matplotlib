{
 "cells": [
  {
   "cell_type": "markdown",
   "id": "04b6b1bc",
   "metadata": {},
   "source": [
    "NRZ-I (Non-Return-to-Zero Inverted)"
   ]
  },
  {
   "cell_type": "code",
   "execution_count": 19,
   "id": "d3b8c667",
   "metadata": {},
   "outputs": [],
   "source": [
    "import numpy as np\n",
    "import matplotlib.pyplot as plt"
   ]
  },
  {
   "cell_type": "markdown",
   "id": "3b618669",
   "metadata": {},
   "source": [
    "NRZ-I Encoding Function"
   ]
  },
  {
   "cell_type": "code",
   "execution_count": 20,
   "id": "88df6728",
   "metadata": {},
   "outputs": [],
   "source": [
    "def NRZ_I_Encode(binary_sequence):\n",
    "    encoded_signal = []\n",
    "    current_level = 0  # Start at low voltage level\n",
    "\n",
    "    for bit in binary_sequence:\n",
    "        if bit == '1':\n",
    "            current_level = 1 - current_level  # Toggle the level for '1'\n",
    "        encoded_signal.append(current_level)  # Append the current level\n",
    "\n",
    "    return encoded_signal\n"
   ]
  },
  {
   "cell_type": "markdown",
   "id": "a8e24419",
   "metadata": {},
   "source": [
    "NRZ-I Decoding Function"
   ]
  },
  {
   "cell_type": "code",
   "execution_count": 21,
   "id": "d0d4dece",
   "metadata": {},
   "outputs": [],
   "source": [
    "def NRZ_I_Decode(encoded_signal):\n",
    "    decoded_sequence = []\n",
    "    current_level = 0  # Start at low voltage level\n",
    "\n",
    "    for i in range(len(encoded_signal)):\n",
    "        if i == 0:  # First bit\n",
    "            decoded_sequence.append('0' if encoded_signal[i] == 0 else '1')\n",
    "            current_level = encoded_signal[i]  # Set initial level\n",
    "        else:\n",
    "            if encoded_signal[i] != current_level:\n",
    "                decoded_sequence.append('1')\n",
    "            else:\n",
    "                decoded_sequence.append('0')\n",
    "            current_level = encoded_signal[i]  # Update current level\n",
    "\n",
    "    return ''.join(decoded_sequence)\n"
   ]
  },
  {
   "cell_type": "markdown",
   "id": "3f27e25b",
   "metadata": {},
   "source": [
    "Plotting Function"
   ]
  },
  {
   "cell_type": "code",
   "execution_count": null,
   "id": "0693416f",
   "metadata": {},
   "outputs": [],
   "source": [
    "def plot_signal(encoded_signal):\n",
    "    time = np.arange(0, len(encoded_signal), 0.01)\n",
    "    voltage = np.repeat(encoded_signal, 100)  # Create a step waveform\n",
    "\n",
    "    plt.figure(figsize=(10, 4))\n",
    "    plt.plot(time[:len(voltage)], voltage, label='NRZ-I Encoded Signal')\n",
    "    plt.title('NRZ-I Encoding')\n",
    "    plt.ylim(-1, 2)\n",
    "    plt.yticks([0, 1], ['0', '1'])\n",
    "    plt.grid(True)\n",
    "    plt.legend()\n",
    "    plt.show()"
   ]
  },
  {
   "cell_type": "markdown",
   "id": "d9d7169f",
   "metadata": {},
   "source": [
    "Input Here:"
   ]
  },
  {
   "cell_type": "code",
   "execution_count": 23,
   "id": "bf979e0d",
   "metadata": {},
   "outputs": [],
   "source": [
    "binary_sequence = '10111001'"
   ]
  },
  {
   "cell_type": "markdown",
   "id": "a28f5f64",
   "metadata": {},
   "source": [
    "Encode And Decode with Plotting the encoded signal"
   ]
  },
  {
   "cell_type": "code",
   "execution_count": 24,
   "id": "cf0b3822",
   "metadata": {},
   "outputs": [
    {
     "name": "stdout",
     "output_type": "stream",
     "text": [
      "Encoded Signal: [1, 1, 0, 1, 0, 0, 0, 1]\n"
     ]
    },
    {
     "data": {
      "image/png": "[encoded data removed]",
      "text/plain": [
       "<Figure size 1000x400 with 1 Axes>"
      ]
     },
     "metadata": {},
     "output_type": "display_data"
    },
    {
     "name": "stdout",
     "output_type": "stream",
     "text": [
      "Decoded Sequence: 10111001\n"
     ]
    }
   ],
   "source": [
    "encoded_signal = NRZ_I_Encode(binary_sequence)\n",
    "print(\"Encoded Signal:\", encoded_signal)\n",
    "\n",
    "plot_signal(encoded_signal)\n",
    "\n",
    "decoded_sequence = NRZ_I_Decode(encoded_signal)\n",
    "print(\"Decoded Sequence:\", decoded_sequence)"
   ]
  }
 ],
 "metadata": {
  "kernelspec": {
   "display_name": "Python 3",
   "language": "python",
   "name": "python3"
  },
  "language_info": {
   "codemirror_mode": {
    "name": "ipython",
    "version": 3
   },
   "file_extension": ".py",
   "mimetype": "text/x-python",
   "name": "python",
   "nbconvert_exporter": "python",
   "pygments_lexer": "ipython3",
   "version": "3.11.9"
  }
 },
 "nbformat": 4,
 "nbformat_minor": 5
}
