{
 "cells": [
  {
   "cell_type": "markdown",
   "metadata": {},
   "source": [
    "NRZ-L Encoding and Decoding.\n",
    "(0 = Low Voltage, \n",
    "1 = High Voltage)"
   ]
  },
  {
   "cell_type": "code",
   "execution_count": 1,
   "metadata": {},
   "outputs": [],
   "source": [
    "import numpy as np\n",
    "import matplotlib.pyplot as plt"
   ]
  },
  {
   "cell_type": "markdown",
   "metadata": {},
   "source": [
    "Encoding Function"
   ]
  },
  {
   "cell_type": "code",
   "execution_count": 2,
   "metadata": {},
   "outputs": [],
   "source": [
    "def NRZ1_Encode(binary_sequence):\n",
    "    encoded_signal = []\n",
    "    for bin_signal in binary_sequence:\n",
    "        if bin_signal == '0':\n",
    "            encoded_signal.append(0) #Low Voltage\n",
    "        elif bin_signal == '1':\n",
    "            encoded_signal.append(1) #High Voltage\n",
    "    return encoded_signal"
   ]
  },
  {
   "cell_type": "markdown",
   "metadata": {},
   "source": [
    "Decoding Function"
   ]
  },
  {
   "cell_type": "code",
   "execution_count": 3,
   "metadata": {},
   "outputs": [],
   "source": [
    "def NRZ1_Decode(encoded_signal):\n",
    "    decoded_sequence = []\n",
    "    for signal in encoded_signal:\n",
    "        if signal == 0:\n",
    "            decoded_sequence.append('0') #Low Voltage\n",
    "        elif signal == 1:\n",
    "            decoded_sequence.append('1') #High Voltage\n",
    "    return encoded_signal"
   ]
  },
  {
   "cell_type": "markdown",
   "metadata": {},
   "source": [
    "Plotting Function for Graph"
   ]
  },
  {
   "cell_type": "code",
   "execution_count": 4,
   "metadata": {},
   "outputs": [],
   "source": [
    "def Plot_signal(encoded_signal):\n",
    "    time = np.arange(0, len(encoded_signal), 0.01)\n",
    "    voltage = np.repeat(encoded_signal, 100)  # Create a step waveform\n",
    "\n",
    "    plt.figure(figsize=(10, 4))\n",
    "    plt.plot(time[:len(voltage)], voltage, label='NRZ-L Encoded Signal')\n",
    "    plt.title('NRZ-L Encoding')\n",
    "    plt.ylim(-1, 2)\n",
    "    plt.yticks([0, 1], ['0', '1'])\n",
    "    plt.grid(True)\n",
    "    plt.legend()\n",
    "    plt.show()"
   ]
  },
  {
   "cell_type": "markdown",
   "metadata": {},
   "source": [
    "Input here: "
   ]
  },
  {
   "cell_type": "code",
   "execution_count": 5,
   "metadata": {},
   "outputs": [],
   "source": [
    "binary_sequence = '10111001'"
   ]
  },
  {
   "cell_type": "markdown",
   "metadata": {},
   "source": [
    "Encoding the binary sequence"
   ]
  },
  {
   "cell_type": "code",
   "execution_count": 6,
   "metadata": {},
   "outputs": [
    {
     "name": "stdout",
     "output_type": "stream",
     "text": [
      "Encoded Signal: [1, 0, 1, 1, 1, 0, 0, 1]\n"
     ]
    }
   ],
   "source": [
    "encoded_signal = NRZ1_Encode(binary_sequence)\n",
    "print(\"Encoded Signal:\", encoded_signal)"
   ]
  },
  {
   "cell_type": "markdown",
   "metadata": {},
   "source": [
    "Plotting the Encoded Signal"
   ]
  },
  {
   "cell_type": "code",
   "execution_count": 7,
   "metadata": {},
   "outputs": [
    {
     "data": {
      "image/png": "[encoded data removed]",
      "text/plain": [
       "<Figure size 1000x400 with 1 Axes>"
      ]
     },
     "metadata": {},
     "output_type": "display_data"
    }
   ],
   "source": [
    "Plot_signal(encoded_signal)"
   ]
  },
  {
   "cell_type": "markdown",
   "metadata": {},
   "source": [
    "Decoding The Encoded Signal"
   ]
  },
  {
   "cell_type": "code",
   "execution_count": 8,
   "metadata": {},
   "outputs": [
    {
     "name": "stdout",
     "output_type": "stream",
     "text": [
      "Decoded Sequence: [1, 0, 1, 1, 1, 0, 0, 1]\n"
     ]
    }
   ],
   "source": [
    "decoded_sequence = NRZ1_Decode(encoded_signal)\n",
    "print(\"Decoded Sequence:\", decoded_sequence)"
   ]
  }
 ],
 "metadata": {
  "kernelspec": {
   "display_name": "Python 3",
   "language": "python",
   "name": "python3"
  },
  "language_info": {
   "codemirror_mode": {
    "name": "ipython",
    "version": 3
   },
   "file_extension": ".py",
   "mimetype": "text/x-python",
   "name": "python",
   "nbconvert_exporter": "python",
   "pygments_lexer": "ipython3",
   "version": "3.11.9"
  }
 },
 "nbformat": 4,
 "nbformat_minor": 2
}
